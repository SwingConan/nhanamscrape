{
 "cells": [
  {
   "cell_type": "code",
   "execution_count": 1,
   "metadata": {},
   "outputs": [
    {
     "name": "stdout",
     "output_type": "stream",
     "text": [
      "+--------------------+------------------+--------------------+--------+--------------------+-----+-------+--------------------+-----------------+-----------------+--------------------+\n",
      "|             barcode|          category|         description|in_stock|                name|pages|  price|publishing_affiliate|           seller|             size|         subcategory|\n",
      "+--------------------+------------------+--------------------+--------+--------------------+-----+-------+--------------------+-----------------+-----------------+--------------------+\n",
      "|        893532502311|  Kỹ Năng/Sống Đẹp|Muốn hết khổ thì ...|       1|Chánh Tâm, Chánh ...|  216|129,000|          Bloombooks|Phương Nam Online|  14.5 x 20 x 1.2|        Kỹ Năng Sống|\n",
      "|        978604401412|      Tuổi Mới Lớn|“Giờ thì tôi đã h...|       1|Chàng Sói Hay Ngượng|  184| 96,000|                AMAK|Phương Nam Online|      18 x 13 x 1|        Truyện Tranh|\n",
      "|        978604442299|           Văn Học|Hinako - một tiểu...|       1|Bảo Mẫu Bí Mật Củ...|  248|135,000|                AMAK|Phương Nam Online|    18 x 13 x 1.2|   Văn Học Đương Đại|\n",
      "|        978604442298|           Văn Học|Ngày xửa ngày xưa...|       1|Hành Trình Của El...|  332|125,000|                AMAK|Phương Nam Online|    18 x 13 x 1.8|   Văn Học Đương Đại|\n",
      "|        978604402586|      Tuổi Mới Lớn|Bằng sức mạnh kì ...|       1|Ông Bà Hồi Xuân -...|  152| 85,000|                AMAK|Phương Nam Online|      18 x 13 x 1|        Truyện Tranh|\n",
      "|        893528091714|      Tuổi Mới Lớn|Helck là một bộ t...|       1|Helck - Tập 1 (Bả...|  204| 79,000|   Hikari LightNovel|Phương Nam Online|    12.7 x 18 x 1|        Truyện Tranh|\n",
      "|        893528091724|     Thể Loại Khác|Nối tiếp thành cô...|       1|Tiếng Việt Ân Tìn...|  368|179,000|       Thái Hà Books|Phương Nam Online|  20.5 x 14.5 x 2|Sách Học Ngoại Ng...|\n",
      "|        893528091719|Kinh Tế/Kinh Doanh|Bạn đã chán ngấy ...|       1|Happy Organizatio...|  340|159,000|       Thái Hà Books|Phương Nam Online|    23 x 15 x 1.8| Quản Trị Kinh Doanh|\n",
      "|        893528091729|     Thể Loại Khác|Trên tấm thảm dệt...|       1|Happy Families - ...|  260|129,000|       Thái Hà Books|Phương Nam Online|    23 x 15 x 1.4|Thường Thức/Đời Sống|\n",
      "|        893528091716|Kinh Tế/Kinh Doanh|“Cuốn sách này là...|       1|Nguyên Tắc Tuyệt ...|  368|249,000|       Thái Hà Books|Phương Nam Online|  20.5 x 14.5 x 2|Bất Động Sản/Chứn...|\n",
      "|        893528091708|     Thể Loại Khác|“Khi mới bắt đầu ...|    1560|Hỏi Đáp Từ Trái T...|  291|179,000|       Thái Hà Books|Phương Nam Online|    19 x 13 x 1.8|   Tâm Linh/Tôn Giáo|\n",
      "|        893528091725|     Thể Loại Khác| nằm trong Dự án ...|       1|Toàn Cảnh Phật Gi...|  496|279,000|       Thái Hà Books|Phương Nam Online|  24 x 15.5 x 2.5|   Tâm Linh/Tôn Giáo|\n",
      "|        893528091728|     Thể Loại Khác| là bản dịch từ m...|       1|Đức Phật Thời Tiề...|  296|119,000|       Thái Hà Books|Phương Nam Online|    19 x 13 x 1.5|   Tâm Linh/Tôn Giáo|\n",
      "|        893528091717|     Thể Loại Khác|Con người chúng t...|       1|Liệu Pháp Hệ Thốn...|  196|119,000|       Thái Hà Books|Phương Nam Online|      23 x 15 x 1|     Tâm Lý/Giáo Dục|\n",
      "|        893532502297|           Văn Học|Có những lúc chún...|       1|Ai Cũng Muốn Chún...|  152| 88,000|          Glow Books|Phương Nam Online|  17 x 11.5 x 0.8| Truyện Ngắn/Tản Văn|\n",
      "|        893532502274|     Thể Loại Khác|Ngày nay, giáo dụ...|       1|Chẳng Sao Cả Khi ...|  336|149,000|            Skymommy|Phương Nam Online|20.5 x 14.5 x 1.8|     Tâm Lý/Giáo Dục|\n",
      "|        893532502268|     Thể Loại Khác|Bạn muốn khám phá...|       1|Ăn Chay Cùng Nhi ...|  224|189,000|     I Love Cookbook|Phương Nam Online|    24 x 17 x 1.2|Thường Thức/Đời Sống|\n",
      "|sachsapphathanh-8...|Truyện Tranh/Manga|Một tác phẩm truy...|     100|Phong Thần Diễn N...|  246| 70,000|                NULL|Phương Nam Online|    18 x 13 x 1.2|               Manga|\n",
      "|sachsapphathanh-8...|Truyện Tranh/Manga|HÔM NAY, ANH TATS...|     100|Đạo Làm Chồng Đảm...|  160| 30,000|                NULL|Phương Nam Online|      18 x 13 x 1|               Manga|\n",
      "|        893521031028|           Văn Học|Cuộc bầu cử Tổng ...|      19|Combo Sách Về Ba ...| 1360|313,800|            Tân Việt|Phương Nam Online|      24 x 16 x 7|Hồi Ký/Bút Ký/Châ...|\n",
      "+--------------------+------------------+--------------------+--------+--------------------+-----+-------+--------------------+-----------------+-----------------+--------------------+\n",
      "only showing top 20 rows\n",
      "\n"
     ]
    }
   ],
   "source": [
    "from pyspark.sql import SparkSession\n",
    "from pyspark.sql.functions import *\n",
    "\n",
    "\n",
    "postgres_driver_path = \"/Users/Admin/Downloads/Downloads/Spark/postgresql-42.3.9.jar\"\n",
    "\n",
    "# Tạo SparkSession với cấu hình MongoDB và PostgreSQL\n",
    "spark = SparkSession.builder \\\n",
    "    .appName(\"Read MongoDB Data\") \\\n",
    "    .config(\"spark.jars\", postgres_driver_path) \\\n",
    "    .config(\"spark.jars.packages\", \"org.mongodb.spark:mongo-spark-connector_2.12:3.0.2\") \\\n",
    "    .config(\"spark.mongodb.input.uri\", \"mongodb://localhost:27017/dbnhanamcrawler\") \\\n",
    "    .getOrCreate()\n",
    "\n",
    "\n",
    "# Đọc dữ liệu từ MongoDB collection \"tblunitop\"\n",
    "df = spark.read.format(\"mongo\").option(\"collection\", \"tblnhanam\").load()\n",
    "\n",
    "\n",
    "df = df.select(\"barcode\", \"category\", \"description\", \"in_stock\", \"name\", \"pages\", \"price\", \"publishing_affiliate\", \"seller\", \"size\", \"subcategory\")\n",
    "\n",
    "# Hiển thị dữ liệu\n",
    "df.show()\n"
   ]
  },
  {
   "cell_type": "code",
   "execution_count": 2,
   "metadata": {},
   "outputs": [
    {
     "name": "stdout",
     "output_type": "stream",
     "text": [
      "root\n",
      " |-- barcode: string (nullable = true)\n",
      " |-- category: string (nullable = true)\n",
      " |-- description: string (nullable = true)\n",
      " |-- in_stock: string (nullable = true)\n",
      " |-- name: string (nullable = true)\n",
      " |-- pages: string (nullable = true)\n",
      " |-- price: string (nullable = true)\n",
      " |-- publishing_affiliate: string (nullable = true)\n",
      " |-- seller: string (nullable = true)\n",
      " |-- size: string (nullable = true)\n",
      " |-- subcategory: string (nullable = true)\n",
      "\n"
     ]
    }
   ],
   "source": [
    "# Hiển thị cấu trúc dữ liệu\n",
    "df.printSchema()"
   ]
  },
  {
   "cell_type": "code",
   "execution_count": 3,
   "metadata": {},
   "outputs": [
    {
     "name": "stdout",
     "output_type": "stream",
     "text": [
      "root\n",
      " |-- barcode: string (nullable = true)\n",
      " |-- category: string (nullable = true)\n",
      " |-- description: string (nullable = true)\n",
      " |-- in_stock: integer (nullable = true)\n",
      " |-- name: string (nullable = true)\n",
      " |-- pages: integer (nullable = true)\n",
      " |-- price: float (nullable = true)\n",
      " |-- publishing_affiliate: string (nullable = true)\n",
      " |-- seller: string (nullable = true)\n",
      " |-- size: string (nullable = true)\n",
      " |-- subcategory: string (nullable = true)\n",
      "\n"
     ]
    }
   ],
   "source": [
    "from pyspark.sql.functions import col,regexp_replace\n",
    "\n",
    "# Chuyển đổi kiểu dữ liệu cho các cột\n",
    "\n",
    "df = df.withColumn(\"price\", regexp_replace(col(\"price\"), \",\", \"\"))\\\n",
    "       .withColumn(\"price\", col(\"price\").cast(\"float\")) \\\n",
    "       .withColumn(\"in_stock\", col(\"in_stock\").cast(\"int\")) \\\n",
    "       .withColumn(\"pages\", col(\"pages\").cast(\"int\"))\n",
    "\n",
    "# Hiển thị cấu trúc dữ liệu sau khi chuyển đổi\n",
    "df.printSchema()\n"
   ]
  },
  {
   "cell_type": "code",
   "execution_count": 4,
   "metadata": {},
   "outputs": [
    {
     "name": "stdout",
     "output_type": "stream",
     "text": [
      "+-----+\n",
      "|pages|\n",
      "+-----+\n",
      "|  216|\n",
      "|  184|\n",
      "|  248|\n",
      "|  332|\n",
      "|  152|\n",
      "+-----+\n",
      "only showing top 5 rows\n",
      "\n",
      "+------------+----------------+--------------------+--------+--------------------+-----+--------+--------------------+-----------------+---------------+-----------------+\n",
      "|     barcode|        category|         description|in_stock|                name|pages|   price|publishing_affiliate|           seller|           size|      subcategory|\n",
      "+------------+----------------+--------------------+--------+--------------------+-----+--------+--------------------+-----------------+---------------+-----------------+\n",
      "|893532502311|Kỹ Năng/Sống Đẹp|Muốn hết khổ thì ...|       1|Chánh Tâm, Chánh ...|  216|129000.0|          Bloombooks|Phương Nam Online|14.5 x 20 x 1.2|     Kỹ Năng Sống|\n",
      "|978604401412|    Tuổi Mới Lớn|“Giờ thì tôi đã h...|       1|Chàng Sói Hay Ngượng|  184| 96000.0|                AMAK|Phương Nam Online|    18 x 13 x 1|     Truyện Tranh|\n",
      "|978604442299|         Văn Học|Hinako - một tiểu...|       1|Bảo Mẫu Bí Mật Củ...|  248|135000.0|                AMAK|Phương Nam Online|  18 x 13 x 1.2|Văn Học Đương Đại|\n",
      "|978604442298|         Văn Học|Ngày xửa ngày xưa...|       1|Hành Trình Của El...|  332|125000.0|                AMAK|Phương Nam Online|  18 x 13 x 1.8|Văn Học Đương Đại|\n",
      "|978604402586|    Tuổi Mới Lớn|Bằng sức mạnh kì ...|       1|Ông Bà Hồi Xuân -...|  152| 85000.0|                AMAK|Phương Nam Online|    18 x 13 x 1|     Truyện Tranh|\n",
      "+------------+----------------+--------------------+--------+--------------------+-----+--------+--------------------+-----------------+---------------+-----------------+\n",
      "only showing top 5 rows\n",
      "\n"
     ]
    }
   ],
   "source": [
    "from pyspark.sql.functions import avg, when, col\n",
    "\n",
    "# Bước 1: Tính giá trị trung bình của cột 'pages' và làm tròn về số nguyên gần nhất\n",
    "# Chuyển 'pages' về số nguyên trước khi tính trung bình để đảm bảo tính toán chính xác\n",
    "avg_pages = df.select(avg(col(\"pages\").cast(\"int\"))).collect()[0][0]\n",
    "\n",
    "\n",
    "# Bước 2: Thay thế các giá trị thiếu (null) trong cột 'pages' bằng giá trị trung bình đã làm tròn\n",
    "df = df.withColumn(\"pages\", when(col(\"pages\").isNull(), avg_pages).otherwise(col(\"pages\")))\n",
    "\n",
    "# Bước 3: Chuyển đổi cột 'pages' về kiểu số nguyên (int)\n",
    "df = df.withColumn(\"pages\", col(\"pages\").cast(\"int\"))\n",
    "\n",
    "# Hiển thị kết quả để kiểm tra\n",
    "df.select(\"pages\").show(5)\n",
    "\n",
    "\n",
    "# Thay thế giá trị thiếu của cột 'size' bằng \"Unknown\"\n",
    "df = df.withColumn(\"size\", when(df[\"size\"].isNull(), \"Unknown\").otherwise(df[\"size\"]))\n",
    "\n",
    "# Hiển thị kết quả sau khi xử lý cột 'pages' và 'size'\n",
    "df.show(5)\n"
   ]
  },
  {
   "cell_type": "code",
   "execution_count": 5,
   "metadata": {},
   "outputs": [
    {
     "name": "stdout",
     "output_type": "stream",
     "text": [
      "+-------------------------------------------------------------------------------------------------------------------------------------------------------------------------------------------------------------------------------------------------------------------------------------------------------------------------------------------------------------------------------------------------------------------------------------------+\n",
      "|description                                                                                                                                                                                                                                                                                                                                                                                                                                |\n",
      "+-------------------------------------------------------------------------------------------------------------------------------------------------------------------------------------------------------------------------------------------------------------------------------------------------------------------------------------------------------------------------------------------------------------------------------------------+\n",
      "|Muốn hết khổ thì trước hết phải chánh niệm; muốn thành tựu thì trước hết phải sửa lại tâm mình. Như người ta vẫn nói, hoàn cảnh thay đổi tùy theo tấm lòng của mỗi người. Khi bạn vô cùng bối rối, bạn sẽ không còn phản ứng với những ý định xấu xa nữa, không còn giải thích quá nhiều về bản thân, không còn đấu tranh với những lựa chọn, nghi ngờ quyết định và phủ nhận quá khứ. Đó là việc tin rằng mọi thứ xảy ra đều tốt cho mình.|\n",
      "|“Giờ thì tôi đã hiểu những điểm siêu cấp đáng yêu của em ấy.”                                                                                                                                                                                                                                                                                                                                                                              |\n",
      "|Hinako - một tiểu thư lười nhác luôn phải vào vai đóa hoa “hoàn hảo”, và Itsuki - một cựu thường dân hiện đang là người hầu cận tận tâm của cô ấy. Itsuki lầm tưởng rằng việc Hinako né tránh, không thành thực với cậu là vì sự non kém của bản thân với tư cách một hầu cận, nên Itsuki quyết định học tác phong quy cách cho đường hoàng. Nhưng người chỉ dạy cho cậu lại là cô tiểu thư coi Hinako là đối thủ - Tennoji Mirei…         |\n",
      "|Ngày xửa ngày xưa, có một cô phù thủy tên Elaina.                                                                                                                                                                                                                                                                                                                                                                                          |\n",
      "|Bằng sức mạnh kì lạ của quả táo vàng, vợ chồng ông bà Shozo - Ine đã hồi xuân.                                                                                                                                                                                                                                                                                                                                                             |\n",
      "+-------------------------------------------------------------------------------------------------------------------------------------------------------------------------------------------------------------------------------------------------------------------------------------------------------------------------------------------------------------------------------------------------------------------------------------------+\n",
      "only showing top 5 rows\n",
      "\n"
     ]
    }
   ],
   "source": [
    "# Thay thế các giá trị null hoặc mô tả có độ dài dưới 10 ký tự bằng một chuỗi mặc định\n",
    "df = df.withColumn(\n",
    "    \"description\",\n",
    "    when(col(\"description\").isNull() | (length(col(\"description\")) < 20), \"No description\")\n",
    "    .otherwise(col(\"description\"))\n",
    ")\n",
    "\n",
    "\n",
    "# Thay thế các giá trị rỗng hoặc chỉ chứa khoảng trắng bằng một chuỗi mặc định\n",
    "df = df.withColumn(\n",
    "    \"description\",\n",
    "    when(trim(col(\"description\")) == \"\", \"No description\")\n",
    "    .otherwise(col(\"description\"))\n",
    ")\n",
    "\n",
    "from pyspark.sql.functions import when, col, length\n",
    "\n",
    "\n",
    "# Hiển thị một vài dòng để kiểm tra kết quả\n",
    "df.select(\"description\").show(5, truncate=False)\n",
    "\n",
    "\n"
   ]
  },
  {
   "cell_type": "code",
   "execution_count": 6,
   "metadata": {},
   "outputs": [
    {
     "name": "stdout",
     "output_type": "stream",
     "text": [
      "+------------+----------------+--------------------+--------+--------------------+-----+--------+--------------------+-----------------+---------------+-----------------+\n",
      "|     barcode|        category|         description|in_stock|                name|pages|   price|publishing_affiliate|           seller|           size|      subcategory|\n",
      "+------------+----------------+--------------------+--------+--------------------+-----+--------+--------------------+-----------------+---------------+-----------------+\n",
      "|893532502311|Kỹ Năng/Sống Đẹp|Muốn hết khổ thì ...|       1|Chánh Tâm, Chánh ...|  216|129000.0|          Bloombooks|Phương Nam Online|14.5 x 20 x 1.2|     Kỹ Năng Sống|\n",
      "|978604401412|    Tuổi Mới Lớn|“Giờ thì tôi đã h...|       1|Chàng Sói Hay Ngượng|  184| 96000.0|                AMAK|Phương Nam Online|    18 x 13 x 1|     Truyện Tranh|\n",
      "|978604442299|         Văn Học|Hinako - một tiểu...|       1|Bảo Mẫu Bí Mật Củ...|  248|135000.0|                AMAK|Phương Nam Online|  18 x 13 x 1.2|Văn Học Đương Đại|\n",
      "|978604442298|         Văn Học|Ngày xửa ngày xưa...|       1|Hành Trình Của El...|  332|125000.0|                AMAK|Phương Nam Online|  18 x 13 x 1.8|Văn Học Đương Đại|\n",
      "|978604402586|    Tuổi Mới Lớn|Bằng sức mạnh kì ...|       1|Ông Bà Hồi Xuân -...|  152| 85000.0|                AMAK|Phương Nam Online|    18 x 13 x 1|     Truyện Tranh|\n",
      "+------------+----------------+--------------------+--------+--------------------+-----+--------+--------------------+-----------------+---------------+-----------------+\n",
      "only showing top 5 rows\n",
      "\n"
     ]
    }
   ],
   "source": [
    "# Thay thế giá trị thiếu trong cột 'publishing_affiliate' bằng \"No affiliate publisher\"\n",
    "df = df.withColumn(\"publishing_affiliate\", when(df[\"publishing_affiliate\"].isNull(), \"No affiliate publisher\").otherwise(df[\"publishing_affiliate\"]))\n",
    "\n",
    "# Hiển thị kết quả sau khi xử lý cột 'publishing_affiliate'\n",
    "df.show(5)\n"
   ]
  },
  {
   "cell_type": "code",
   "execution_count": 8,
   "metadata": {},
   "outputs": [
    {
     "name": "stdout",
     "output_type": "stream",
     "text": [
      "+------------+\n",
      "|     barcode|\n",
      "+------------+\n",
      "|893532502311|\n",
      "|978604401412|\n",
      "|978604442299|\n",
      "|978604442298|\n",
      "|978604402586|\n",
      "+------------+\n",
      "only showing top 5 rows\n",
      "\n"
     ]
    }
   ],
   "source": [
    "from pyspark.sql.functions import regexp_extract, col, when\n",
    "\n",
    "# Bước 1: Trích xuất mã barcode từ các giá trị có cấu trúc 'sachsapphathanh-893535261661-dht' hoặc 'sachsapphathanh-893528091726'\n",
    "df = df.withColumn(\n",
    "    \"barcode\",\n",
    "    when(\n",
    "        col(\"barcode\").rlike(r\"sachsapphathanh-\\d+-dht\"),  # Kiểm tra cấu trúc 'sachsapphathanh-<số>-dht'\n",
    "        regexp_extract(col(\"barcode\"), r\"sachsapphathanh-(\\d+)-dht\", 1)  # Trích xuất mã số trong cấu trúc này\n",
    "    ).when(\n",
    "        col(\"barcode\").rlike(r\"sachsapphathanh-\\d+\"),  # Kiểm tra cấu trúc 'sachsapphathanh-<số>' (mới)\n",
    "        regexp_extract(col(\"barcode\"), r\"sachsapphathanh-(\\d+)\", 1)  # Trích xuất mã số trong cấu trúc mới\n",
    "    ).otherwise(col(\"barcode\"))  # Giữ nguyên mã barcode cho các trường hợp còn lại\n",
    ")\n",
    "\n",
    "# Bước 2: Loại bỏ các dòng có giá trị barcode với cấu trúc 'sachsapphathanh-dht' (không chứa mã số)\n",
    "df = df.filter(~col(\"barcode\").rlike(r\"sachsapphathanh-dht\"))\n",
    "\n",
    "# Hiển thị kết quả sau khi xử lý\n",
    "df.select(\"barcode\").show(5)"
   ]
  },
  {
   "cell_type": "code",
   "execution_count": 9,
   "metadata": {},
   "outputs": [
    {
     "name": "stdout",
     "output_type": "stream",
     "text": [
      "Số dòng còn lại: 990\n",
      "Số cột: 11\n"
     ]
    }
   ],
   "source": [
    "# Đếm số dòng\n",
    "num_rows = df.count()\n",
    "\n",
    "# Đếm số cột\n",
    "num_columns = len(df.columns)\n",
    "\n",
    "# In kết quả\n",
    "print(f\"Số dòng còn lại: {num_rows}\")\n",
    "print(f\"Số cột: {num_columns}\")\n",
    "\n"
   ]
  },
  {
   "cell_type": "code",
   "execution_count": 12,
   "metadata": {},
   "outputs": [],
   "source": [
    "# df.write.option(\"header\", True) \\\n",
    "#         .option(\"sep\", \"$\") \\\n",
    "#         .csv(\"output_csv\", mode=\"overwrite\")\n"
   ]
  },
  {
   "cell_type": "code",
   "execution_count": 10,
   "metadata": {},
   "outputs": [],
   "source": [
    "# Thiết lập JDBC URL và thuộc tính\n",
    "jdbc_url = \"jdbc:postgresql://localhost:5432/nhanamscrape_db\"\n",
    "properties = {\n",
    "    \"user\": \"postgres\",\n",
    "    \"password\": \"database1203\",  # Thay thế mật khẩu của bạn ở đây\n",
    "    \"driver\": \"org.postgresql.Driver\"\n",
    "}\n",
    "\n",
    "\n"
   ]
  },
  {
   "cell_type": "code",
   "execution_count": 11,
   "metadata": {},
   "outputs": [],
   "source": [
    "# Chèn dữ liệu vào bảng 'categories'\n",
    "df_categories = df.select(\"category\", \"subcategory\")\n",
    "df_categories.write.jdbc(url=jdbc_url, table=\"categories\", mode=\"append\", properties=properties)\n",
    "\n",
    "\n"
   ]
  },
  {
   "cell_type": "code",
   "execution_count": 12,
   "metadata": {},
   "outputs": [],
   "source": [
    "# Chèn dữ liệu vào bảng 'publishing_affiliates'\n",
    "df_affiliates = df.select(\"publishing_affiliate\")\n",
    "df_affiliates.write.jdbc(url=jdbc_url, table=\"publishing_affiliates\", mode=\"append\", properties=properties)\n",
    "\n",
    "\n"
   ]
  },
  {
   "cell_type": "code",
   "execution_count": 13,
   "metadata": {},
   "outputs": [],
   "source": [
    "# Chèn dữ liệu vào bảng 'sellers'\n",
    "df_sellers = df.select(\"seller\")\n",
    "df_sellers.write.jdbc(url=jdbc_url, table=\"sellers\", mode=\"append\", properties=properties)"
   ]
  },
  {
   "cell_type": "code",
   "execution_count": 14,
   "metadata": {},
   "outputs": [],
   "source": [
    "# Chèn dữ liệu vào bảng 'books'\n",
    "df_books = df.select(\"barcode\", \"name\", \"description\", \"pages\", \"price\", \"size\", \"in_stock\")\n",
    "df_books.write.jdbc(url=jdbc_url, table=\"books\", mode=\"append\", properties=properties)\n"
   ]
  }
 ],
 "metadata": {
  "kernelspec": {
   "display_name": "base",
   "language": "python",
   "name": "python3"
  },
  "language_info": {
   "codemirror_mode": {
    "name": "ipython",
    "version": 3
   },
   "file_extension": ".py",
   "mimetype": "text/x-python",
   "name": "python",
   "nbconvert_exporter": "python",
   "pygments_lexer": "ipython3",
   "version": "3.11.4"
  }
 },
 "nbformat": 4,
 "nbformat_minor": 2
}
